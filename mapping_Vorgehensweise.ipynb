{
 "cells": [
  {
   "cell_type": "code",
   "execution_count": null,
   "metadata": {},
   "outputs": [],
   "source": [
    "import geopandas as gpd\n",
    "import folium"
   ]
  },
  {
   "cell_type": "code",
   "execution_count": null,
   "metadata": {},
   "outputs": [],
   "source": [
    "map=folium.Map(location=[48.5,16.5], tiles = \"OpenStreetMap\", zoom_start=10)\n",
    "map"
   ]
  },
  {
   "cell_type": "code",
   "execution_count": null,
   "metadata": {},
   "outputs": [],
   "source": [
    "#converting geometries\n",
    "geometry = df.points_from_xy(df.lng,df.ltd)\n",
    "#create geodataframe\n",
    "geo_df = gpd.GeoDataFrame(df,geometry=geometry)\n",
    "#map - plotting the geometries\n",
    "geo_df.plot()\n",
    "#Using folium (OSM-Data)\n",
    "#create/extract the list of points"
   ]
  }
 ],
 "metadata": {
  "language_info": {
   "name": "python"
  }
 },
 "nbformat": 4,
 "nbformat_minor": 2
}
